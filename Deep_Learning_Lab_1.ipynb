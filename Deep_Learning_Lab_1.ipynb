{
  "nbformat": 4,
  "nbformat_minor": 0,
  "metadata": {
    "colab": {
      "name": "Deep Learning  Lab 1.ipynb",
      "provenance": [],
      "collapsed_sections": []
    },
    "kernelspec": {
      "name": "python3",
      "display_name": "Python 3"
    }
  },
  "cells": [
    {
      "cell_type": "code",
      "metadata": {
        "id": "AJim4gfMWV7v",
        "colab_type": "code",
        "colab": {
          "base_uri": "https://localhost:8080/",
          "height": 295
        },
        "outputId": "8699f5c6-5e01-4025-9767-0c8df9c2de64"
      },
      "source": [
        "import numpy as np\n",
        "x1= np.array([[1.0, 1.51], [1.2, 1.9], [2.2, 3.5]])\n",
        "y1= np.array([[1, 2], [3, 4], [5, 6]])\n",
        "z1= np.array([[ 0.+0.j,  0.+0.j],\n",
        "       [ 0.+0.j,  0.+0.j]])\n",
        "print(\"Original array elements:\")\n",
        "print(\"x1\",x1)\n",
        "print(\"y1\",y1)\n",
        "print(\"z1\",z1)\n",
        "#print(\"Convert float values to integer values:\")\n",
        "# we can chnage it in any other format\n",
        "#print(x1.astype(int))\n",
        "print(\"size of x1\",x1.size)\n",
        "print(\"dimension of x1\",x1.ndim)\n",
        "\n",
        "print(\"size of y1\",y1.size)\n",
        "print(\"dimension of y1\",y1.ndim)\n",
        "\n",
        "print(\"size of z1\",z1.size)\n",
        "print(\"dimension of z1\",z1.ndim)\n"
      ],
      "execution_count": 5,
      "outputs": [
        {
          "output_type": "stream",
          "text": [
            "Original array elements:\n",
            "x1 [[1.   1.51]\n",
            " [1.2  1.9 ]\n",
            " [2.2  3.5 ]]\n",
            "y1 [[1 2]\n",
            " [3 4]\n",
            " [5 6]]\n",
            "z1 [[0.+0.j 0.+0.j]\n",
            " [0.+0.j 0.+0.j]]\n",
            "Convert float values to integer values:\n",
            "size of x1 6\n",
            "dimension of x1 2\n",
            "size of y1 6\n",
            "dimension of y1 2\n",
            "size of z1 4\n",
            "dimension of z1 2\n"
          ],
          "name": "stdout"
        }
      ]
    },
    {
      "cell_type": "code",
      "metadata": {
        "id": "UdrXydC7WXn3",
        "colab_type": "code",
        "colab": {
          "base_uri": "https://localhost:8080/",
          "height": 295
        },
        "outputId": "3f3b7015-8346-4a08-fa22-24400c9d1f54"
      },
      "source": [
        "\n",
        "matrix=np.array([[1,2,6],[3,4,7],[8,9,10]])\n",
        "print(\"original\")\n",
        "print(matrix)\n",
        "print(\"tranpose\")\n",
        "Transpose=matrix.T\n",
        "print(Transpose)\n",
        "inversion_matrix=np.linalg.inv(matrix)\n",
        "print(\"INVERTED MATRIX\")\n",
        "print(inversion_matrix)\n",
        "print(\"DOT PRODUCT\")\n",
        "DotProductMatrix=np.dot(matrix,Transpose)\n",
        "matrix_new = print(DotProductMatrix)\n"
      ],
      "execution_count": 11,
      "outputs": [
        {
          "output_type": "stream",
          "text": [
            "original\n",
            "[[ 1  2  6]\n",
            " [ 3  4  7]\n",
            " [ 8  9 10]]\n",
            "tranpose\n",
            "[[ 1  3  8]\n",
            " [ 2  4  9]\n",
            " [ 6  7 10]]\n",
            "INVERTED MATRIX\n",
            "[[ 23. -34.  10.]\n",
            " [-26.  38. -11.]\n",
            " [  5.  -7.   2.]]\n",
            "DOT PRODUCT\n",
            "[[ 41  53  86]\n",
            " [ 53  74 130]\n",
            " [ 86 130 245]]\n"
          ],
          "name": "stdout"
        }
      ]
    },
    {
      "cell_type": "code",
      "metadata": {
        "id": "JKsFjitvZOZf",
        "colab_type": "code",
        "colab": {
          "base_uri": "https://localhost:8080/",
          "height": 121
        },
        "outputId": "ed89e7ac-5cd9-4494-aac0-71548133a018"
      },
      "source": [
        "# slicing\n",
        "\n",
        "list1 =[i*2 for i in range(0,10)]\n",
        "\n",
        "print(list1)\n",
        "print(list1[:])\n",
        "print(list1[0:])\n",
        "print(list1[2:8])\n",
        "# reversing the list\n",
        "print(list1[::-1])\n",
        "print(list1[10:0:-1])\n"
      ],
      "execution_count": 22,
      "outputs": [
        {
          "output_type": "stream",
          "text": [
            "[0, 2, 4, 6, 8, 10, 12, 14, 16, 18]\n",
            "[0, 2, 4, 6, 8, 10, 12, 14, 16, 18]\n",
            "[0, 2, 4, 6, 8, 10, 12, 14, 16, 18]\n",
            "[4, 6, 8, 10, 12, 14]\n",
            "[18, 16, 14, 12, 10, 8, 6, 4, 2, 0]\n",
            "[18, 16, 14, 12, 10, 8, 6, 4, 2]\n"
          ],
          "name": "stdout"
        }
      ]
    },
    {
      "cell_type": "code",
      "metadata": {
        "id": "0UnriujhcrGt",
        "colab_type": "code",
        "colab": {
          "base_uri": "https://localhost:8080/",
          "height": 173
        },
        "outputId": "4cee5b39-9a96-4c70-e008-771a7fb11bd5"
      },
      "source": [
        "pip install wget"
      ],
      "execution_count": 23,
      "outputs": [
        {
          "output_type": "stream",
          "text": [
            "Collecting wget\n",
            "  Downloading https://files.pythonhosted.org/packages/47/6a/62e288da7bcda82b935ff0c6cfe542970f04e29c756b0e147251b2fb251f/wget-3.2.zip\n",
            "Building wheels for collected packages: wget\n",
            "  Building wheel for wget (setup.py) ... \u001b[?25l\u001b[?25hdone\n",
            "  Created wheel for wget: filename=wget-3.2-cp36-none-any.whl size=9682 sha256=98f9393bb2f5a91c99df8fd11817d339222b5d467f035e64ec39dec49b4f7d20\n",
            "  Stored in directory: /root/.cache/pip/wheels/40/15/30/7d8f7cea2902b4db79e3fea550d7d7b85ecb27ef992b618f3f\n",
            "Successfully built wget\n",
            "Installing collected packages: wget\n",
            "Successfully installed wget-3.2\n"
          ],
          "name": "stdout"
        }
      ]
    },
    {
      "cell_type": "code",
      "metadata": {
        "id": "DJVUmHQWbfvJ",
        "colab_type": "code",
        "colab": {
          "base_uri": "https://localhost:8080/",
          "height": 208
        },
        "outputId": "3365da07-9dc0-4387-9573-3e0d73969489"
      },
      "source": [
        "import wget\n",
        "import pandas as pd\n",
        "import numpy as np\n",
        "url = 'https://raw.githubusercontent.com/DeepConnectAI/challenge-week-1/master/data/structured_data/data.csv'\n",
        "#load of csv_file\n",
        "filename = wget.download(url)\n",
        "df = pd.read_csv(url)\n",
        "\n",
        "array=np.array([df['Salary'],df['Age'],df['Country'],df['Price Category Of Purchase'],df['Purchased']])\n",
        "print(array)"
      ],
      "execution_count": 27,
      "outputs": [
        {
          "output_type": "stream",
          "text": [
            "[[72000.0 48000.0 54000.0 61000.0 nan 58000.0 52000.0 79000.0 83000.0\n",
            "  67000.0 54400.0 55000.0 58800.0 42000.0 41000.0 69000.0 67000.0 65000.0\n",
            "  nan nan]\n",
            " [44.0 27.0 30.0 38.0 40.0 35.0 nan 48.0 50.0 37.0 18.0 22.0 nan 28.0\n",
            "  24.0 35.0 32.0 38.0 45.0 25.0]\n",
            " ['France' 'Spain' 'Germany' 'Spain' 'Germany' 'France' 'Spain' 'France'\n",
            "  'Germany' 'France' 'France' 'Germany' 'Germany' 'France' 'France'\n",
            "  'Germany' 'Germany' 'Germany' 'France' 'Germany']\n",
            " [1 1 2 3 1 2 3 1 2 2 3 3 1 3 2 1 3 3 2 1]\n",
            " ['No' 'Yes' 'No' 'No' 'Yes' 'Yes' 'No' 'Yes' 'No' 'Yes' 'No' 'Yes' 'Yes'\n",
            "  'No' 'No' 'No' 'Yes' 'Yes' 'Yes' 'No']]\n"
          ],
          "name": "stdout"
        }
      ]
    },
    {
      "cell_type": "code",
      "metadata": {
        "id": "fmW_VWiic8qR",
        "colab_type": "code",
        "colab": {}
      },
      "source": [
        ""
      ],
      "execution_count": null,
      "outputs": []
    }
  ]
}